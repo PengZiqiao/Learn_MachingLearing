{
 "cells": [
  {
   "cell_type": "markdown",
   "metadata": {},
   "source": [
    "# 数据标准化与随机梯度下降"
   ]
  },
  {
   "cell_type": "markdown",
   "metadata": {},
   "source": [
    "### 数据标准化\n",
    "$$ {x}_{j}^{'}=\\frac{{x}_{j}-{\\mu}_{j}}{{\\sigma}_{j}} $$"
   ]
  },
  {
   "cell_type": "code",
   "execution_count": 1,
   "metadata": {
    "collapsed": true
   },
   "outputs": [],
   "source": [
    "from sklearn.datasets import load_iris\n",
    "import numpy as np\n",
    "\n",
    "# 样本0-49类标为0，50-99类标为1，100-149类标为2\n",
    "# 所以只选前100个样本，并将类标转换为1和-1\n",
    "# 为了可视化方便，只选两个特征\n",
    "X, y = load_iris(return_X_y=True)\n",
    "X = X[:100, :2]\n",
    "y = y[:100]\n",
    "y = np.where(y == 0, 1, -1)\n",
    "\n",
    "# 标准化\n",
    "X_std = np.copy(X)\n",
    "for col in range(X.shape[1]):\n",
    "    X_std[:, col] = (X[:, col] - X[:, col].mean()) / X[:, 0].std()"
   ]
  },
  {
   "cell_type": "markdown",
   "metadata": {},
   "source": [
    "### 随机梯度下降\n",
    "\n",
    "每次使用一个训练样本渐进地更新权重\n",
    "$$ \\Delta{w}=\\eta({y}^{(i)}-\\phi({z}^{(i)})){x}^{(i)} $$\n",
    "\n",
    "使用随着时间变化的自适应学习速率代替固定学习速率（没在代码中实现）\n",
    "$$ \\eta=\\frac{{c}_{1}}{迭代次数+{c}_{2}} $$"
   ]
  },
  {
   "cell_type": "code",
   "execution_count": 2,
   "metadata": {
    "collapsed": true
   },
   "outputs": [],
   "source": [
    "from matplotlib import pyplot as plt\n",
    "\n",
    "class AdalineSGD:\n",
    "    \"\"\"自适应线性神经网络(随机梯度下降)\n",
    "\n",
    "    :param\n",
    "        eta: float 学习步长，在0到1之间\n",
    "        iter: int 迭代次数\n",
    "\n",
    "    :arg\n",
    "        w: array 权重向量，由目标函数的各特征系数组成，含一个常数项，所以长度为 特征数+1\n",
    "        errors: list 每次迭代，预测值与实际值不符的样本个数\n",
    "        shuffle: bool 是否打乱数据顺序\n",
    "        random_state: int 设置一个随机种子，保证多次训练的一致性\n",
    "    \"\"\"\n",
    "\n",
    "    def __init__(self, eta=0.01, n_iter=10, shuffle=True, random_state=None):\n",
    "        # 学习步长\n",
    "        self.eta = eta\n",
    "        # 迭代次数\n",
    "        self.n_iter = n_iter\n",
    "        # 其他选项\n",
    "        self.w_initialized = False\n",
    "        self.shuffle = shuffle\n",
    "        if random_state:\n",
    "            np.random.seed(random_state)\n",
    "\n",
    "    def fit(self, X, y):\n",
    "        \"\"\"fit训练\n",
    "\n",
    "        :param\n",
    "            X: n*m-matrix 样本矩阵，行n为样本数，列m为特征数\n",
    "            y: array 分类向量， 由分类标签（即-1或1)组成，长度为样本数\n",
    "\n",
    "        :return\n",
    "            self: object\n",
    "        \"\"\"\n",
    "        # 创建一个空列表用以记录每次J(w)\n",
    "        self.costs = list()\n",
    "\n",
    "        # 创建一个维数比特征数多一的零向量，最后一项为常数项\n",
    "        self.initialize_weights(X.shape[1])\n",
    "\n",
    "        # 迭代n_iter次\n",
    "        for each_time in range(self.n_iter):\n",
    "            # 打乱样本顺序\n",
    "            if self.shuffle:\n",
    "                X, y = self.shuffle_it(X, y)\n",
    "\n",
    "            # 批量梯度下降更新权重\n",
    "            cost = list()\n",
    "            for x_i, y_i in zip(X, y):\n",
    "                cost.append(self.update_weights(x_i, y_i))\n",
    "            avg_cost = np.mean(cost)\n",
    "            self.costs.append(avg_cost)\n",
    "\n",
    "        return self\n",
    "    \n",
    "    def partail_fit(self, X, y):\n",
    "        # 如果是第一次训练，就初始化权重\n",
    "        if not self.w_initialized:\n",
    "            self.initialize_weights(X.shape[1])\n",
    "            \n",
    "        # 渐进更新权重\n",
    "        for x_i, y_i in zip(X, y):\n",
    "            self.update_weights(x_i, y_i)\n",
    "\n",
    "    def net_input(self, X):\n",
    "        \"\"\"净输入函数\n",
    "\n",
    "        :param\n",
    "            X: matrix 样本矩阵，一行为一条样本，每列代表一个特征\n",
    "\n",
    "        :return:\n",
    "            z: array 每条样本x与w的线性组合值组成的向量\n",
    "        \"\"\"\n",
    "        z = np.dot(X, self.w[:-1]) + self.w[-1]\n",
    "        return z\n",
    "\n",
    "    def activation(self, X):\n",
    "        \"\"\"激励函数\n",
    "\n",
    "        :param\n",
    "            X: matrix 样本矩阵，一行为一条样本，每列代表一个特征\n",
    "\n",
    "        :return:\n",
    "            z: array 每条样本x与w的线性组合值组成的向量\n",
    "        \"\"\"\n",
    "        # 简单的恒等函数\n",
    "        z = self.net_input(X)\n",
    "        return z\n",
    "\n",
    "    def predict(self, X):\n",
    "        \"\"\"量化器\n",
    "\n",
    "        :param\n",
    "            X: matrix 样本矩阵，一行为一条样本，每列代表一个特征\n",
    "\n",
    "        :return:\n",
    "            y_predict: int 分类预测值 1或-1\n",
    "        \"\"\"\n",
    "        theta = 0.0\n",
    "        y_predict = np.where(self.activation(X) >= theta, 1, -1)\n",
    "        return y_predict\n",
    "\n",
    "    def err_plot(self):\n",
    "        plt.plot(range(len(self.costs)), self.costs)\n",
    "        plt.xlabel('n_iter')\n",
    "        plt.ylabel('number of errors')\n",
    "        plt.show()\n",
    "\n",
    "    def initialize_weights(self, m):\n",
    "        self.w = np.zeros(m + 1)\n",
    "        self.w_initialized = True\n",
    "        return self\n",
    "\n",
    "    def shuffle_it(self, X, y):\n",
    "        r = np.random.permutation(len(y))\n",
    "        return X[r], y[r]\n",
    "\n",
    "    def update_weights(self, x_i, y_i):\n",
    "        \"\"\"更新权重\n",
    "\n",
    "        :param\n",
    "            x_i: array 一条样本\n",
    "            y_i: int 分类类标\n",
    "\n",
    "        :return:\n",
    "            cost: float 代价函数值\n",
    "        \"\"\"\n",
    "        output = self.net_input(x_i)\n",
    "        error = y_i - output\n",
    "        self.w[:-1] += self.eta * np.dot(x_i, error)\n",
    "        self.w[-1] += self.eta * error\n",
    "        cost = 0.5 * np.square(error)\n",
    "        return cost"
   ]
  },
  {
   "cell_type": "code",
   "execution_count": 3,
   "metadata": {},
   "outputs": [
    {
     "data": {
      "image/png": "[encoded data removed]",
      "text/plain": [
       "<matplotlib.figure.Figure at 0x1de87176fd0>"
      ]
     },
     "metadata": {},
     "output_type": "display_data"
    }
   ],
   "source": [
    "ada = AdalineSGD(eta=0.001, n_iter=40)\n",
    "ada.fit(X_std, y)\n",
    "ada.err_plot()"
   ]
  },
  {
   "cell_type": "code",
   "execution_count": 5,
   "metadata": {},
   "outputs": [
    {
     "data": {
      "image/png": "[encoded data removed]",
      "text/plain": [
       "<matplotlib.figure.Figure at 0x1de876b5390>"
      ]
     },
     "metadata": {},
     "output_type": "display_data"
    }
   ],
   "source": [
    "from matplotlib.colors import ListedColormap\n",
    "\n",
    "def plot_decision_regions(X, y ,classifier, resolution=0.02):\n",
    "    # np.unique(y) 表示y种类数\n",
    "    colors = ('red','blue','lightgreen','gray','cyan')\n",
    "    cmap = ListedColormap(colors[:len(np.unique(y))])\n",
    "    \n",
    "    # 横轴、纵轴范围\n",
    "    x1_min, x1_max = X[:,0].min()-1, X[:,0].max()+1\n",
    "    x2_min, x2_max = X[:,1].min()-1, X[:,1].max()+1\n",
    "    xx1, xx2 = np.meshgrid(np.arange(x1_min, x1_max, resolution), np.arange(x2_min, x2_max, resolution))\n",
    "    \n",
    "    # 把x1_min,x1_max,x2_min,x2_max围合的矩形类所用点用感知器分类， 并根据分类用contourf填色\n",
    "    Z = classifier.predict(np.array([xx1.ravel(), xx2.ravel()]).T)\n",
    "    Z = Z.reshape(xx1.shape)\n",
    "    plt.contourf(xx1, xx2, Z, alpha=0.3, cmap=cmap)\n",
    "    \n",
    "    # 遍历每个类别\n",
    "    for idx, cl in enumerate(np.unique(y)):\n",
    "        # 当前类别中，横坐标为特征0， 纵坐标为特征1, 根据类别控制点的颜色\n",
    "        plt.scatter(x=X[y==cl, 0], y=X[y==cl, 1], c=cmap(cl), label=cl)\n",
    "    \n",
    "    plt.show()\n",
    "\n",
    "plot_decision_regions(X_std, y, classifier=ada)"
   ]
  }
 ],
 "metadata": {
  "kernelspec": {
   "display_name": "Python 3",
   "language": "python",
   "name": "python3"
  },
  "language_info": {
   "codemirror_mode": {
    "name": "ipython",
    "version": 3
   },
   "file_extension": ".py",
   "mimetype": "text/x-python",
   "name": "python",
   "nbconvert_exporter": "python",
   "pygments_lexer": "ipython3",
   "version": "3.6.1"
  }
 },
 "nbformat": 4,
 "nbformat_minor": 2
}
